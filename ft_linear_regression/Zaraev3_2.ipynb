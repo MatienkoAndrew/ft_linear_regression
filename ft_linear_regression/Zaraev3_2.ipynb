{
 "cells": [
  {
   "cell_type": "code",
   "execution_count": 57,
   "metadata": {},
   "outputs": [],
   "source": [
    "import numpy as np\n",
    "import pandas as pd\n",
    "import matplotlib.pyplot as plt"
   ]
  },
  {
   "cell_type": "code",
   "execution_count": 58,
   "metadata": {},
   "outputs": [],
   "source": [
    "gazp = pd.read_csv('GAZP.txt')\n",
    "rosn = pd.read_csv('ROSN.txt')"
   ]
  },
  {
   "cell_type": "code",
   "execution_count": 59,
   "metadata": {},
   "outputs": [
    {
     "data": {
      "text/html": [
       "<div>\n",
       "<style scoped>\n",
       "    .dataframe tbody tr th:only-of-type {\n",
       "        vertical-align: middle;\n",
       "    }\n",
       "\n",
       "    .dataframe tbody tr th {\n",
       "        vertical-align: top;\n",
       "    }\n",
       "\n",
       "    .dataframe thead th {\n",
       "        text-align: right;\n",
       "    }\n",
       "</style>\n",
       "<table border=\"1\" class=\"dataframe\">\n",
       "  <thead>\n",
       "    <tr style=\"text-align: right;\">\n",
       "      <th></th>\n",
       "      <th>&lt;TICKER&gt;</th>\n",
       "      <th>&lt;PER&gt;</th>\n",
       "      <th>&lt;DATE&gt;</th>\n",
       "      <th>&lt;TIME&gt;</th>\n",
       "      <th>&lt;OPEN&gt;</th>\n",
       "      <th>&lt;HIGH&gt;</th>\n",
       "      <th>&lt;LOW&gt;</th>\n",
       "      <th>&lt;CLOSE&gt;</th>\n",
       "      <th>&lt;VOL&gt;</th>\n",
       "    </tr>\n",
       "  </thead>\n",
       "  <tbody>\n",
       "    <tr>\n",
       "      <th>0</th>\n",
       "      <td>ROSN</td>\n",
       "      <td>D</td>\n",
       "      <td>20190926</td>\n",
       "      <td>0</td>\n",
       "      <td>424.95</td>\n",
       "      <td>425.95</td>\n",
       "      <td>422.05</td>\n",
       "      <td>422.55</td>\n",
       "      <td>2115650</td>\n",
       "    </tr>\n",
       "    <tr>\n",
       "      <th>1</th>\n",
       "      <td>ROSN</td>\n",
       "      <td>D</td>\n",
       "      <td>20190927</td>\n",
       "      <td>0</td>\n",
       "      <td>422.50</td>\n",
       "      <td>424.75</td>\n",
       "      <td>422.20</td>\n",
       "      <td>422.50</td>\n",
       "      <td>1732000</td>\n",
       "    </tr>\n",
       "    <tr>\n",
       "      <th>2</th>\n",
       "      <td>ROSN</td>\n",
       "      <td>D</td>\n",
       "      <td>20190930</td>\n",
       "      <td>0</td>\n",
       "      <td>422.20</td>\n",
       "      <td>422.50</td>\n",
       "      <td>419.30</td>\n",
       "      <td>419.30</td>\n",
       "      <td>2328750</td>\n",
       "    </tr>\n",
       "    <tr>\n",
       "      <th>3</th>\n",
       "      <td>ROSN</td>\n",
       "      <td>D</td>\n",
       "      <td>20191001</td>\n",
       "      <td>0</td>\n",
       "      <td>420.10</td>\n",
       "      <td>423.25</td>\n",
       "      <td>419.90</td>\n",
       "      <td>420.65</td>\n",
       "      <td>2429320</td>\n",
       "    </tr>\n",
       "    <tr>\n",
       "      <th>4</th>\n",
       "      <td>ROSN</td>\n",
       "      <td>D</td>\n",
       "      <td>20191002</td>\n",
       "      <td>0</td>\n",
       "      <td>420.70</td>\n",
       "      <td>422.25</td>\n",
       "      <td>415.80</td>\n",
       "      <td>417.55</td>\n",
       "      <td>3421860</td>\n",
       "    </tr>\n",
       "  </tbody>\n",
       "</table>\n",
       "</div>"
      ],
      "text/plain": [
       "  <TICKER> <PER>    <DATE>  <TIME>  <OPEN>  <HIGH>   <LOW>  <CLOSE>    <VOL>\n",
       "0     ROSN     D  20190926       0  424.95  425.95  422.05   422.55  2115650\n",
       "1     ROSN     D  20190927       0  422.50  424.75  422.20   422.50  1732000\n",
       "2     ROSN     D  20190930       0  422.20  422.50  419.30   419.30  2328750\n",
       "3     ROSN     D  20191001       0  420.10  423.25  419.90   420.65  2429320\n",
       "4     ROSN     D  20191002       0  420.70  422.25  415.80   417.55  3421860"
      ]
     },
     "execution_count": 59,
     "metadata": {},
     "output_type": "execute_result"
    }
   ],
   "source": [
    "rosn.head()"
   ]
  },
  {
   "cell_type": "code",
   "execution_count": 60,
   "metadata": {},
   "outputs": [
    {
     "data": {
      "text/html": [
       "<div>\n",
       "<style scoped>\n",
       "    .dataframe tbody tr th:only-of-type {\n",
       "        vertical-align: middle;\n",
       "    }\n",
       "\n",
       "    .dataframe tbody tr th {\n",
       "        vertical-align: top;\n",
       "    }\n",
       "\n",
       "    .dataframe thead th {\n",
       "        text-align: right;\n",
       "    }\n",
       "</style>\n",
       "<table border=\"1\" class=\"dataframe\">\n",
       "  <thead>\n",
       "    <tr style=\"text-align: right;\">\n",
       "      <th></th>\n",
       "      <th>&lt;TICKER&gt;_x</th>\n",
       "      <th>&lt;PER&gt;_x</th>\n",
       "      <th>&lt;DATE&gt;</th>\n",
       "      <th>&lt;TIME&gt;_x</th>\n",
       "      <th>&lt;OPEN&gt;_x</th>\n",
       "      <th>&lt;HIGH&gt;_x</th>\n",
       "      <th>&lt;LOW&gt;_x</th>\n",
       "      <th>&lt;CLOSE&gt;_x</th>\n",
       "      <th>&lt;VOL&gt;_x</th>\n",
       "      <th>&lt;TICKER&gt;_y</th>\n",
       "      <th>&lt;PER&gt;_y</th>\n",
       "      <th>&lt;TIME&gt;_y</th>\n",
       "      <th>&lt;OPEN&gt;_y</th>\n",
       "      <th>&lt;HIGH&gt;_y</th>\n",
       "      <th>&lt;LOW&gt;_y</th>\n",
       "      <th>&lt;CLOSE&gt;_y</th>\n",
       "      <th>&lt;VOL&gt;_y</th>\n",
       "    </tr>\n",
       "  </thead>\n",
       "  <tbody>\n",
       "    <tr>\n",
       "      <th>0</th>\n",
       "      <td>ROSN</td>\n",
       "      <td>D</td>\n",
       "      <td>20190926</td>\n",
       "      <td>0</td>\n",
       "      <td>424.95</td>\n",
       "      <td>425.95</td>\n",
       "      <td>422.05</td>\n",
       "      <td>422.55</td>\n",
       "      <td>2115650</td>\n",
       "      <td>GAZP</td>\n",
       "      <td>D</td>\n",
       "      <td>0</td>\n",
       "      <td>228.74</td>\n",
       "      <td>233.70</td>\n",
       "      <td>228.31</td>\n",
       "      <td>231.97</td>\n",
       "      <td>40372280</td>\n",
       "    </tr>\n",
       "    <tr>\n",
       "      <th>1</th>\n",
       "      <td>ROSN</td>\n",
       "      <td>D</td>\n",
       "      <td>20190927</td>\n",
       "      <td>0</td>\n",
       "      <td>422.50</td>\n",
       "      <td>424.75</td>\n",
       "      <td>422.20</td>\n",
       "      <td>422.50</td>\n",
       "      <td>1732000</td>\n",
       "      <td>GAZP</td>\n",
       "      <td>D</td>\n",
       "      <td>0</td>\n",
       "      <td>231.95</td>\n",
       "      <td>232.14</td>\n",
       "      <td>229.01</td>\n",
       "      <td>229.01</td>\n",
       "      <td>13552170</td>\n",
       "    </tr>\n",
       "    <tr>\n",
       "      <th>2</th>\n",
       "      <td>ROSN</td>\n",
       "      <td>D</td>\n",
       "      <td>20190930</td>\n",
       "      <td>0</td>\n",
       "      <td>422.20</td>\n",
       "      <td>422.50</td>\n",
       "      <td>419.30</td>\n",
       "      <td>419.30</td>\n",
       "      <td>2328750</td>\n",
       "      <td>GAZP</td>\n",
       "      <td>D</td>\n",
       "      <td>0</td>\n",
       "      <td>229.03</td>\n",
       "      <td>229.46</td>\n",
       "      <td>225.90</td>\n",
       "      <td>225.90</td>\n",
       "      <td>26468400</td>\n",
       "    </tr>\n",
       "    <tr>\n",
       "      <th>3</th>\n",
       "      <td>ROSN</td>\n",
       "      <td>D</td>\n",
       "      <td>20191001</td>\n",
       "      <td>0</td>\n",
       "      <td>420.10</td>\n",
       "      <td>423.25</td>\n",
       "      <td>419.90</td>\n",
       "      <td>420.65</td>\n",
       "      <td>2429320</td>\n",
       "      <td>GAZP</td>\n",
       "      <td>D</td>\n",
       "      <td>0</td>\n",
       "      <td>225.99</td>\n",
       "      <td>227.70</td>\n",
       "      <td>225.17</td>\n",
       "      <td>226.49</td>\n",
       "      <td>16729200</td>\n",
       "    </tr>\n",
       "    <tr>\n",
       "      <th>4</th>\n",
       "      <td>ROSN</td>\n",
       "      <td>D</td>\n",
       "      <td>20191002</td>\n",
       "      <td>0</td>\n",
       "      <td>420.70</td>\n",
       "      <td>422.25</td>\n",
       "      <td>415.80</td>\n",
       "      <td>417.55</td>\n",
       "      <td>3421860</td>\n",
       "      <td>GAZP</td>\n",
       "      <td>D</td>\n",
       "      <td>0</td>\n",
       "      <td>226.20</td>\n",
       "      <td>226.65</td>\n",
       "      <td>223.25</td>\n",
       "      <td>223.60</td>\n",
       "      <td>31853130</td>\n",
       "    </tr>\n",
       "  </tbody>\n",
       "</table>\n",
       "</div>"
      ],
      "text/plain": [
       "  <TICKER>_x <PER>_x    <DATE>  <TIME>_x  <OPEN>_x  <HIGH>_x  <LOW>_x  \\\n",
       "0       ROSN       D  20190926         0    424.95    425.95   422.05   \n",
       "1       ROSN       D  20190927         0    422.50    424.75   422.20   \n",
       "2       ROSN       D  20190930         0    422.20    422.50   419.30   \n",
       "3       ROSN       D  20191001         0    420.10    423.25   419.90   \n",
       "4       ROSN       D  20191002         0    420.70    422.25   415.80   \n",
       "\n",
       "   <CLOSE>_x  <VOL>_x <TICKER>_y <PER>_y  <TIME>_y  <OPEN>_y  <HIGH>_y  \\\n",
       "0     422.55  2115650       GAZP       D         0    228.74    233.70   \n",
       "1     422.50  1732000       GAZP       D         0    231.95    232.14   \n",
       "2     419.30  2328750       GAZP       D         0    229.03    229.46   \n",
       "3     420.65  2429320       GAZP       D         0    225.99    227.70   \n",
       "4     417.55  3421860       GAZP       D         0    226.20    226.65   \n",
       "\n",
       "   <LOW>_y  <CLOSE>_y   <VOL>_y  \n",
       "0   228.31     231.97  40372280  \n",
       "1   229.01     229.01  13552170  \n",
       "2   225.90     225.90  26468400  \n",
       "3   225.17     226.49  16729200  \n",
       "4   223.25     223.60  31853130  "
      ]
     },
     "execution_count": 60,
     "metadata": {},
     "output_type": "execute_result"
    }
   ],
   "source": [
    "res = pd.merge(rosn, gazp, on='<DATE>')\n",
    "res.head()"
   ]
  },
  {
   "cell_type": "code",
   "execution_count": 61,
   "metadata": {},
   "outputs": [],
   "source": [
    "x = res['<CLOSE>_x']\n",
    "y = res['<CLOSE>_y']"
   ]
  },
  {
   "cell_type": "code",
   "execution_count": 62,
   "metadata": {},
   "outputs": [
    {
     "data": {
      "image/png": "[encoded data removed]",
      "text/plain": [
       "<Figure size 432x288 with 1 Axes>"
      ]
     },
     "metadata": {
      "needs_background": "light"
     },
     "output_type": "display_data"
    }
   ],
   "source": [
    "plt.figure()\n",
    "plt.scatter(x, y)\n",
    "plt.show()"
   ]
  },
  {
   "cell_type": "code",
   "execution_count": 63,
   "metadata": {},
   "outputs": [],
   "source": [
    "class hypothesis(object):\n",
    "    \"\"\"Модель парной линейной регрессии\"\"\"\n",
    "    def __init__(self):\n",
    "        self.b0 = 0\n",
    "        self.b1 = 0\n",
    "    def predict(self, x):\n",
    "        return self.b0 + self.b1 * x\n",
    "    def error(self, X, Y):    \n",
    "        return sum((self.predict(X) - Y)**2) / (2 * len(X))\n",
    "    def BGD(self, X, Y, alpha=0.000005, accuracy=0.01):\n",
    "        steps, errors = [], []\n",
    "        step = 0        \n",
    "        old_err = hyp.error(X, Y)\n",
    "        new_err = hyp.error(X, Y) - 1\n",
    "        dJ = 1\n",
    "        while dJ > accuracy:\n",
    "            dJ0 = sum(self.predict(X) - Y) /len(X)\n",
    "            dJ1 = sum((self.predict(X) - Y) * X) /len(X)\n",
    "            self.b0 -= alpha * dJ0\n",
    "            self.b1 -= alpha * dJ1            \n",
    "            old_err = new_err\n",
    "            new_err = hyp.error(X, Y)\n",
    "            dJ = old_err - new_err          \n",
    "            step += 1            \n",
    "            steps.append(step)\n",
    "            errors.append(new_err)\n",
    "        return steps, errors\n"
   ]
  },
  {
   "cell_type": "code",
   "execution_count": 64,
   "metadata": {},
   "outputs": [
    {
     "name": "stdout",
     "output_type": "stream",
     "text": [
      "0\n",
      "0\n",
      "initial error: 22673.120466800006\n"
     ]
    }
   ],
   "source": [
    "hyp = hypothesis()\n",
    "print(hyp.predict(0))\n",
    "print(hyp.predict(100))\n",
    "J = hyp.error(x, y)\n",
    "print(\"initial error:\", J)\n"
   ]
  },
  {
   "cell_type": "code",
   "execution_count": 65,
   "metadata": {},
   "outputs": [
    {
     "data": {
      "image/png": "[encoded data removed]",
      "text/plain": [
       "<Figure size 432x288 with 1 Axes>"
      ]
     },
     "metadata": {
      "needs_background": "light"
     },
     "output_type": "display_data"
    }
   ],
   "source": [
    "X0 = np.linspace(200, 500, 120)\n",
    "Y0 = hyp.predict(X0)\n",
    "plt.figure()\n",
    "plt.scatter(x, y)\n",
    "plt.plot(X0, Y0, 'r')\n",
    "plt.show()"
   ]
  },
  {
   "cell_type": "code",
   "execution_count": 66,
   "metadata": {},
   "outputs": [
    {
     "name": "stdout",
     "output_type": "stream",
     "text": [
      "error after gradient descent: 105.46063722083343\n"
     ]
    },
    {
     "data": {
      "image/png": "[encoded data removed]",
      "text/plain": [
       "<Figure size 432x288 with 1 Axes>"
      ]
     },
     "metadata": {
      "needs_background": "light"
     },
     "output_type": "display_data"
    }
   ],
   "source": [
    "hyp = hypothesis()\n",
    "steps, errors = hyp.BGD(x, y)\n",
    "J = hyp.error(x, y)\n",
    "print(\"error after gradient descent:\", J)\n",
    "\n",
    "\n",
    "#error after gradient descent: 6734.135540194945\n",
    "\n",
    "X0 = np.linspace(200, 500, 120)\n",
    "Y0 = hyp.predict(X0)\n",
    "\n",
    "plt.figure()\n",
    "plt.scatter(x, y)\n",
    "plt.plot(X0, Y0, 'r')\n",
    "plt.show()\n"
   ]
  },
  {
   "cell_type": "code",
   "execution_count": 67,
   "metadata": {},
   "outputs": [
    {
     "data": {
      "image/png": "[encoded data removed]",
      "text/plain": [
       "<Figure size 432x288 with 1 Axes>"
      ]
     },
     "metadata": {
      "needs_background": "light"
     },
     "output_type": "display_data"
    }
   ],
   "source": [
    "plt.figure()\n",
    "plt.plot(steps, errors, 'g')\n",
    "plt.show()\n"
   ]
  },
  {
   "cell_type": "code",
   "execution_count": null,
   "metadata": {},
   "outputs": [],
   "source": []
  },
  {
   "cell_type": "code",
   "execution_count": null,
   "metadata": {},
   "outputs": [],
   "source": []
  },
  {
   "cell_type": "code",
   "execution_count": null,
   "metadata": {},
   "outputs": [],
   "source": []
  }
 ],
 "metadata": {
  "kernelspec": {
   "display_name": "Python 3",
   "language": "python",
   "name": "python3"
  },
  "language_info": {
   "codemirror_mode": {
    "name": "ipython",
    "version": 3
   },
   "file_extension": ".py",
   "mimetype": "text/x-python",
   "name": "python",
   "nbconvert_exporter": "python",
   "pygments_lexer": "ipython3",
   "version": "3.7.6"
  }
 },
 "nbformat": 4,
 "nbformat_minor": 4
}
