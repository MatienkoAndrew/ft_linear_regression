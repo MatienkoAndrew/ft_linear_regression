{
 "cells": [
  {
   "cell_type": "code",
   "execution_count": 85,
   "metadata": {},
   "outputs": [],
   "source": [
    "import pandas as pd\n",
    "import numpy as np\n",
    "from matplotlib import pyplot as plt"
   ]
  },
  {
   "cell_type": "code",
   "execution_count": 2,
   "metadata": {},
   "outputs": [],
   "source": [
    "df = pd.read_csv('data.csv')"
   ]
  },
  {
   "cell_type": "code",
   "execution_count": 3,
   "metadata": {},
   "outputs": [
    {
     "data": {
      "text/html": [
       "<div>\n",
       "<style scoped>\n",
       "    .dataframe tbody tr th:only-of-type {\n",
       "        vertical-align: middle;\n",
       "    }\n",
       "\n",
       "    .dataframe tbody tr th {\n",
       "        vertical-align: top;\n",
       "    }\n",
       "\n",
       "    .dataframe thead th {\n",
       "        text-align: right;\n",
       "    }\n",
       "</style>\n",
       "<table border=\"1\" class=\"dataframe\">\n",
       "  <thead>\n",
       "    <tr style=\"text-align: right;\">\n",
       "      <th></th>\n",
       "      <th>km</th>\n",
       "      <th>price</th>\n",
       "    </tr>\n",
       "  </thead>\n",
       "  <tbody>\n",
       "    <tr>\n",
       "      <th>0</th>\n",
       "      <td>240000</td>\n",
       "      <td>3650</td>\n",
       "    </tr>\n",
       "    <tr>\n",
       "      <th>1</th>\n",
       "      <td>139800</td>\n",
       "      <td>3800</td>\n",
       "    </tr>\n",
       "    <tr>\n",
       "      <th>2</th>\n",
       "      <td>150500</td>\n",
       "      <td>4400</td>\n",
       "    </tr>\n",
       "    <tr>\n",
       "      <th>3</th>\n",
       "      <td>185530</td>\n",
       "      <td>4450</td>\n",
       "    </tr>\n",
       "    <tr>\n",
       "      <th>4</th>\n",
       "      <td>176000</td>\n",
       "      <td>5250</td>\n",
       "    </tr>\n",
       "  </tbody>\n",
       "</table>\n",
       "</div>"
      ],
      "text/plain": [
       "       km  price\n",
       "0  240000   3650\n",
       "1  139800   3800\n",
       "2  150500   4400\n",
       "3  185530   4450\n",
       "4  176000   5250"
      ]
     },
     "execution_count": 3,
     "metadata": {},
     "output_type": "execute_result"
    }
   ],
   "source": [
    "df.head()"
   ]
  },
  {
   "cell_type": "code",
   "execution_count": 6,
   "metadata": {},
   "outputs": [
    {
     "data": {
      "text/plain": [
       "(24, 2)"
      ]
     },
     "execution_count": 6,
     "metadata": {},
     "output_type": "execute_result"
    }
   ],
   "source": [
    "df.shape"
   ]
  },
  {
   "cell_type": "code",
   "execution_count": 4,
   "metadata": {},
   "outputs": [
    {
     "name": "stdout",
     "output_type": "stream",
     "text": [
      "<class 'pandas.core.frame.DataFrame'>\n",
      "RangeIndex: 24 entries, 0 to 23\n",
      "Data columns (total 2 columns):\n",
      " #   Column  Non-Null Count  Dtype\n",
      "---  ------  --------------  -----\n",
      " 0   km      24 non-null     int64\n",
      " 1   price   24 non-null     int64\n",
      "dtypes: int64(2)\n",
      "memory usage: 512.0 bytes\n"
     ]
    }
   ],
   "source": [
    "df.info()"
   ]
  },
  {
   "cell_type": "code",
   "execution_count": 849,
   "metadata": {},
   "outputs": [],
   "source": [
    "class GradientDescent:\n",
    "    def __init__(self, learning_rate = 0.1, theta=None, n_iterations=50, plot=False):\n",
    "        self.theta = theta\n",
    "        self.n_iterations = n_iterations\n",
    "        self.mse = dict()\n",
    "        self.learning_rate = learning_rate\n",
    "        self.plot= plot\n",
    "        pass\n",
    "    \n",
    "    def fit(self, X, y):\n",
    "        m = len(X)\n",
    "        X_bias = np.c_[np.ones((len(X), 1)), X]\n",
    "        if self.theta == None:\n",
    "#             self.theta = np.random.randn(X_bias.shape[1])\n",
    "            self.theta = np.ones((1, X_bias.shape[1]))\n",
    "        for i in range(self.n_iterations + 1):\n",
    "            y_pred = self.theta.dot(X_bias.T)[0]\n",
    "            \n",
    "            if (self.plot == True):\n",
    "#                 plt.figure(figsize=(10,6))\n",
    "                plt.plot(self.theta[0][1] * range(250000) + self.theta[0][0])\n",
    "                plt.scatter(X, y)\n",
    "                plt.xlabel('km')\n",
    "                plt.ylabel('price')\n",
    "                plt.ylim([3500, 10000])\n",
    "            \n",
    "            self.mse[i] = (1. / m) * sum((y-y_pred) ** 2)\n",
    "            gradients = -(2. / m) * np.dot((y-y_pred).T, X_bias)\n",
    "            step_size = self.learning_rate * gradients\n",
    "            self.theta = self.theta + step_size\n",
    "            pass\n",
    "        pass\n",
    "    \n",
    "    def predict(self, X):\n",
    "        X_bias = np.c_[np.ones((len(X), 1)), X]\n",
    "        return np.dot(self.theta, X_bias.T)[0]\n",
    "    \n",
    "    def mean_squared_error(self, y, y_pred):\n",
    "        return sum((y - y_pred) ** 2) / len(y)\n",
    "    \n",
    "    def mae(self, y, y_pred):\n",
    "        return np.abs(y - y_pred).mean()\n",
    "    "
   ]
  },
  {
   "cell_type": "code",
   "execution_count": 850,
   "metadata": {},
   "outputs": [],
   "source": [
    "X = df['km']"
   ]
  },
  {
   "cell_type": "code",
   "execution_count": 851,
   "metadata": {},
   "outputs": [],
   "source": [
    "y = df['price']"
   ]
  },
  {
   "cell_type": "code",
   "execution_count": 852,
   "metadata": {},
   "outputs": [],
   "source": [
    "gd = GradientDescent(plot=True)"
   ]
  },
  {
   "cell_type": "code",
   "execution_count": 853,
   "metadata": {},
   "outputs": [
    {
     "name": "stderr",
     "output_type": "stream",
     "text": [
      "<ipython-input-849-c664750bdef1>:21: RuntimeWarning: invalid value encountered in multiply\n",
      "  plt.plot(self.theta[0][1] * range(250000) + self.theta[0][0])\n",
      "<ipython-input-849-c664750bdef1>:21: RuntimeWarning: invalid value encountered in multiply\n",
      "  plt.plot(self.theta[0][1] * range(250000) + self.theta[0][0])\n",
      "<ipython-input-849-c664750bdef1>:21: RuntimeWarning: invalid value encountered in multiply\n",
      "  plt.plot(self.theta[0][1] * range(250000) + self.theta[0][0])\n",
      "<ipython-input-849-c664750bdef1>:21: RuntimeWarning: invalid value encountered in multiply\n",
      "  plt.plot(self.theta[0][1] * range(250000) + self.theta[0][0])\n",
      "<ipython-input-849-c664750bdef1>:21: RuntimeWarning: invalid value encountered in multiply\n",
      "  plt.plot(self.theta[0][1] * range(250000) + self.theta[0][0])\n",
      "<ipython-input-849-c664750bdef1>:21: RuntimeWarning: invalid value encountered in multiply\n",
      "  plt.plot(self.theta[0][1] * range(250000) + self.theta[0][0])\n",
      "<ipython-input-849-c664750bdef1>:21: RuntimeWarning: invalid value encountered in multiply\n",
      "  plt.plot(self.theta[0][1] * range(250000) + self.theta[0][0])\n",
      "<ipython-input-849-c664750bdef1>:21: RuntimeWarning: invalid value encountered in multiply\n",
      "  plt.plot(self.theta[0][1] * range(250000) + self.theta[0][0])\n",
      "<ipython-input-849-c664750bdef1>:21: RuntimeWarning: invalid value encountered in multiply\n",
      "  plt.plot(self.theta[0][1] * range(250000) + self.theta[0][0])\n",
      "<ipython-input-849-c664750bdef1>:21: RuntimeWarning: invalid value encountered in multiply\n",
      "  plt.plot(self.theta[0][1] * range(250000) + self.theta[0][0])\n",
      "<ipython-input-849-c664750bdef1>:21: RuntimeWarning: invalid value encountered in multiply\n",
      "  plt.plot(self.theta[0][1] * range(250000) + self.theta[0][0])\n",
      "<ipython-input-849-c664750bdef1>:21: RuntimeWarning: invalid value encountered in multiply\n",
      "  plt.plot(self.theta[0][1] * range(250000) + self.theta[0][0])\n",
      "<ipython-input-849-c664750bdef1>:21: RuntimeWarning: invalid value encountered in multiply\n",
      "  plt.plot(self.theta[0][1] * range(250000) + self.theta[0][0])\n",
      "<ipython-input-849-c664750bdef1>:21: RuntimeWarning: invalid value encountered in multiply\n",
      "  plt.plot(self.theta[0][1] * range(250000) + self.theta[0][0])\n",
      "<ipython-input-849-c664750bdef1>:21: RuntimeWarning: invalid value encountered in multiply\n",
      "  plt.plot(self.theta[0][1] * range(250000) + self.theta[0][0])\n",
      "<ipython-input-849-c664750bdef1>:21: RuntimeWarning: invalid value encountered in multiply\n",
      "  plt.plot(self.theta[0][1] * range(250000) + self.theta[0][0])\n",
      "<ipython-input-849-c664750bdef1>:21: RuntimeWarning: invalid value encountered in multiply\n",
      "  plt.plot(self.theta[0][1] * range(250000) + self.theta[0][0])\n",
      "<ipython-input-849-c664750bdef1>:21: RuntimeWarning: invalid value encountered in multiply\n",
      "  plt.plot(self.theta[0][1] * range(250000) + self.theta[0][0])\n"
     ]
    },
    {
     "data": {
      "image/png": "[encoded data removed]",
      "text/plain": [
       "<Figure size 432x288 with 1 Axes>"
      ]
     },
     "metadata": {
      "needs_background": "light"
     },
     "output_type": "display_data"
    }
   ],
   "source": [
    "gd.fit(X, y)"
   ]
  },
  {
   "cell_type": "code",
   "execution_count": 854,
   "metadata": {},
   "outputs": [
    {
     "data": {
      "text/plain": [
       "array([[inf, inf]])"
      ]
     },
     "execution_count": 854,
     "metadata": {},
     "output_type": "execute_result"
    }
   ],
   "source": [
    "gd.theta"
   ]
  },
  {
   "cell_type": "code",
   "execution_count": 855,
   "metadata": {},
   "outputs": [],
   "source": [
    "y_pred = gd.predict(X)"
   ]
  },
  {
   "cell_type": "code",
   "execution_count": 856,
   "metadata": {},
   "outputs": [
    {
     "data": {
      "text/plain": [
       "array([inf, inf, inf, inf, inf, inf, inf, inf, inf, inf, inf, inf, inf,\n",
       "       inf, inf, inf, inf, inf, inf, inf, inf, inf, inf, inf])"
      ]
     },
     "execution_count": 856,
     "metadata": {},
     "output_type": "execute_result"
    }
   ],
   "source": [
    "y_pred"
   ]
  },
  {
   "cell_type": "code",
   "execution_count": 857,
   "metadata": {},
   "outputs": [
    {
     "data": {
      "text/plain": [
       "array([[3650, 3800, 4400, 4450, 5250, 5350, 5800, 5990, 5999, 6200, 6390,\n",
       "        6390, 6600, 6800, 6800, 6900, 6900, 6990, 7490, 7555, 7990, 7990,\n",
       "        7990, 8290]])"
      ]
     },
     "execution_count": 857,
     "metadata": {},
     "output_type": "execute_result"
    }
   ],
   "source": [
    "np.array(y).reshape(1, -1)"
   ]
  },
  {
   "cell_type": "code",
   "execution_count": 858,
   "metadata": {},
   "outputs": [
    {
     "data": {
      "text/plain": [
       "array([[inf, inf]])"
      ]
     },
     "execution_count": 858,
     "metadata": {},
     "output_type": "execute_result"
    }
   ],
   "source": [
    "gd.theta"
   ]
  },
  {
   "cell_type": "code",
   "execution_count": 859,
   "metadata": {
    "scrolled": true
   },
   "outputs": [
    {
     "data": {
      "text/plain": [
       "{0: 11749501157.166666,\n",
       " 1: 7.778479232008855e+28,\n",
       " 2: 5.156300588404186e+47,\n",
       " 3: 3.418076331497891e+66,\n",
       " 4: 2.265819381092734e+85,\n",
       " 5: 1.5019961433938013e+104,\n",
       " 6: 9.956629524820535e+122,\n",
       " 7: 6.600181493843976e+141,\n",
       " 8: 4.375215090918609e+160,\n",
       " 9: 2.9003001068464913e+179,\n",
       " 10: 1.9225890693313688e+198,\n",
       " 11: 1.2744711213804416e+217,\n",
       " 12: 8.448381742842234e+235,\n",
       " 13: 5.600374372977565e+254,\n",
       " 14: 3.712449800706119e+273,\n",
       " 15: 2.4609575369218096e+292,\n",
       " 16: inf,\n",
       " 17: inf,\n",
       " 18: inf,\n",
       " 19: inf,\n",
       " 20: inf,\n",
       " 21: inf,\n",
       " 22: inf,\n",
       " 23: inf,\n",
       " 24: inf,\n",
       " 25: inf,\n",
       " 26: inf,\n",
       " 27: inf,\n",
       " 28: inf,\n",
       " 29: inf,\n",
       " 30: inf,\n",
       " 31: inf,\n",
       " 32: inf,\n",
       " 33: inf,\n",
       " 34: inf,\n",
       " 35: inf,\n",
       " 36: inf,\n",
       " 37: inf,\n",
       " 38: inf,\n",
       " 39: inf,\n",
       " 40: inf,\n",
       " 41: inf,\n",
       " 42: inf,\n",
       " 43: inf,\n",
       " 44: inf,\n",
       " 45: inf,\n",
       " 46: inf,\n",
       " 47: inf,\n",
       " 48: inf,\n",
       " 49: inf,\n",
       " 50: inf}"
      ]
     },
     "execution_count": 859,
     "metadata": {},
     "output_type": "execute_result"
    }
   ],
   "source": [
    "gd.mse"
   ]
  },
  {
   "cell_type": "code",
   "execution_count": 774,
   "metadata": {},
   "outputs": [
    {
     "data": {
      "text/plain": [
       "[<matplotlib.lines.Line2D at 0x2349a6340>]"
      ]
     },
     "execution_count": 774,
     "metadata": {},
     "output_type": "execute_result"
    },
    {
     "data": {
      "image/png": "[encoded data removed]",
      "text/plain": [
       "<Figure size 432x288 with 1 Axes>"
      ]
     },
     "metadata": {
      "needs_background": "light"
     },
     "output_type": "display_data"
    }
   ],
   "source": [
    "plt.plot(gd.mse.keys(), gd.mse.values(), marker='o', color='blue')"
   ]
  },
  {
   "cell_type": "code",
   "execution_count": 572,
   "metadata": {},
   "outputs": [
    {
     "data": {
      "text/plain": [
       "75782487.56702627"
      ]
     },
     "execution_count": 572,
     "metadata": {},
     "output_type": "execute_result"
    }
   ],
   "source": [
    "gd.mean_squared_error(y, y_pred)"
   ]
  },
  {
   "cell_type": "code",
   "execution_count": 573,
   "metadata": {},
   "outputs": [
    {
     "data": {
      "text/plain": [
       "6062.527649026865"
      ]
     },
     "execution_count": 573,
     "metadata": {},
     "output_type": "execute_result"
    }
   ],
   "source": [
    "gd.mae(y, y_pred)"
   ]
  },
  {
   "cell_type": "code",
   "execution_count": null,
   "metadata": {},
   "outputs": [],
   "source": []
  },
  {
   "cell_type": "code",
   "execution_count": null,
   "metadata": {},
   "outputs": [],
   "source": []
  },
  {
   "cell_type": "code",
   "execution_count": 634,
   "metadata": {},
   "outputs": [],
   "source": [
    "from sklearn.linear_model import SGDRegressor"
   ]
  },
  {
   "cell_type": "code",
   "execution_count": 642,
   "metadata": {},
   "outputs": [],
   "source": [
    "X = np.array(X).reshape(-1,1)"
   ]
  },
  {
   "cell_type": "code",
   "execution_count": 643,
   "metadata": {},
   "outputs": [
    {
     "data": {
      "text/plain": [
       "SGDRegressor(max_iter=1000000000)"
      ]
     },
     "execution_count": 643,
     "metadata": {},
     "output_type": "execute_result"
    }
   ],
   "source": [
    "lr = SGDRegressor(max_iter=1000000000)\n",
    "lr.fit(X, y)"
   ]
  },
  {
   "cell_type": "code",
   "execution_count": 644,
   "metadata": {},
   "outputs": [],
   "source": [
    "y_pred = lr.predict(X)"
   ]
  },
  {
   "cell_type": "code",
   "execution_count": 645,
   "metadata": {},
   "outputs": [
    {
     "data": {
      "text/plain": [
       "array([-2.01450540e+19, -1.17344940e+19, -1.26326276e+19, -1.55729661e+19,\n",
       "       -1.47730396e+19, -9.63605084e+18, -1.40008126e+19, -7.47045753e+18,\n",
       "       -1.21290013e+19, -7.05076890e+18, -6.88532764e+18, -5.29311293e+18,\n",
       "       -6.21139165e+18, -8.18392819e+18, -5.62382757e+18, -6.38136554e+18,\n",
       "       -4.04873616e+18, -7.80620843e+18, -5.11592039e+18, -5.51252615e+18,\n",
       "       -4.53263714e+18, -5.74973416e+18, -1.92208995e+18, -5.18642808e+18])"
      ]
     },
     "execution_count": 645,
     "metadata": {},
     "output_type": "execute_result"
    }
   ],
   "source": [
    "y_pred"
   ]
  },
  {
   "cell_type": "code",
   "execution_count": 646,
   "metadata": {},
   "outputs": [
    {
     "data": {
      "text/plain": [
       "0     3650\n",
       "1     3800\n",
       "2     4400\n",
       "3     4450\n",
       "4     5250\n",
       "5     5350\n",
       "6     5800\n",
       "7     5990\n",
       "8     5999\n",
       "9     6200\n",
       "10    6390\n",
       "11    6390\n",
       "12    6600\n",
       "13    6800\n",
       "14    6800\n",
       "15    6900\n",
       "16    6900\n",
       "17    6990\n",
       "18    7490\n",
       "19    7555\n",
       "20    7990\n",
       "21    7990\n",
       "22    7990\n",
       "23    8290\n",
       "Name: price, dtype: int64"
      ]
     },
     "execution_count": 646,
     "metadata": {},
     "output_type": "execute_result"
    }
   ],
   "source": [
    "y"
   ]
  },
  {
   "cell_type": "code",
   "execution_count": 647,
   "metadata": {},
   "outputs": [
    {
     "data": {
      "text/plain": [
       "-5.434621224127624e+31"
      ]
     },
     "execution_count": 647,
     "metadata": {},
     "output_type": "execute_result"
    }
   ],
   "source": [
    "lr.score(X, y)"
   ]
  },
  {
   "cell_type": "code",
   "execution_count": 800,
   "metadata": {},
   "outputs": [
    {
     "data": {
      "text/plain": [
       "Text(0, 0.5, 'price')"
      ]
     },
     "execution_count": 800,
     "metadata": {},
     "output_type": "execute_result"
    },
    {
     "data": {
      "image/png": "[encoded data removed]",
      "text/plain": [
       "<Figure size 432x288 with 1 Axes>"
      ]
     },
     "metadata": {
      "needs_background": "light"
     },
     "output_type": "display_data"
    }
   ],
   "source": [
    "# plt.plot(gd.theta[0][1] * range(25000) + gd.theta[0][0])\n",
    "plt.scatter(df.km, df.price)\n",
    "plt.xlabel('km')\n",
    "plt.ylabel('price')"
   ]
  },
  {
   "cell_type": "code",
   "execution_count": 752,
   "metadata": {},
   "outputs": [
    {
     "data": {
      "text/plain": [
       "[<matplotlib.lines.Line2D at 0x1c5b2d490>]"
      ]
     },
     "execution_count": 752,
     "metadata": {},
     "output_type": "execute_result"
    },
    {
     "data": {
      "image/png": "[encoded data removed]",
      "text/plain": [
       "<Figure size 432x288 with 1 Axes>"
      ]
     },
     "metadata": {
      "needs_background": "light"
     },
     "output_type": "display_data"
    }
   ],
   "source": [
    "plt.plot(gd.theta[0][1] * range(25000) + gd.theta[0][0])"
   ]
  },
  {
   "cell_type": "code",
   "execution_count": 650,
   "metadata": {},
   "outputs": [
    {
     "name": "stdout",
     "output_type": "stream",
     "text": [
      "y =  12.48850277491978 * x + 1.0000898394500437\n"
     ]
    }
   ],
   "source": [
    "print(\"y = \", gd.theta[0][1], \"* x +\", gd.theta[0][0])"
   ]
  },
  {
   "cell_type": "code",
   "execution_count": null,
   "metadata": {},
   "outputs": [],
   "source": []
  }
 ],
 "metadata": {
  "kernelspec": {
   "display_name": "Python 3",
   "language": "python",
   "name": "python3"
  },
  "language_info": {
   "codemirror_mode": {
    "name": "ipython",
    "version": 3
   },
   "file_extension": ".py",
   "mimetype": "text/x-python",
   "name": "python",
   "nbconvert_exporter": "python",
   "pygments_lexer": "ipython3",
   "version": "3.8.5"
  }
 },
 "nbformat": 4,
 "nbformat_minor": 4
}
